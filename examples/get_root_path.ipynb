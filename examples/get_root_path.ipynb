{
 "cells": [
  {
   "cell_type": "markdown",
   "id": "621241cd",
   "metadata": {},
   "source": [
    "Notebooks don’t define __file__, so you have to use current working directory:"
   ]
  },
  {
   "cell_type": "code",
   "execution_count": 2,
   "id": "a0896913",
   "metadata": {},
   "outputs": [
    {
     "name": "stdout",
     "output_type": "stream",
     "text": [
      "Project root is: /workspaces/EMR-Py\n"
     ]
    }
   ],
   "source": [
    "from pathlib import Path\n",
    "from emrpy import get_root_path\n",
    "\n",
    "project_root = get_root_path(Path.cwd(), levels=0)\n",
    "\n",
    "print(\"Project root is:\", project_root)"
   ]
  }
 ],
 "metadata": {
  "kernelspec": {
   "display_name": "emr-py",
   "language": "python",
   "name": "python3"
  },
  "language_info": {
   "codemirror_mode": {
    "name": "ipython",
    "version": 3
   },
   "file_extension": ".py",
   "mimetype": "text/x-python",
   "name": "python",
   "nbconvert_exporter": "python",
   "pygments_lexer": "ipython3",
   "version": "3.12.1"
  }
 },
 "nbformat": 4,
 "nbformat_minor": 5
}
